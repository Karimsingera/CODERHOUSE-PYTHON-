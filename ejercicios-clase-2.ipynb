{
 "cells": [
  {
   "cell_type": "code",
   "execution_count": 2,
   "metadata": {},
   "outputs": [
    {
     "name": "stdout",
     "output_type": "stream",
     "text": [
      "seu saldo inicial é 950.5\n"
     ]
    },
    {
     "name": "stdout",
     "output_type": "stream",
     "text": [
      "Seu novo saldo é 816.5\n"
     ]
    }
   ],
   "source": [
    "# Exercicio nro1\n",
    "\n",
    "saldo = 950.50\n",
    "print(f'seu saldo inicial é {saldo}')\n",
    "saque = input('quanto dinheiro deseja sacar? ')\n",
    "saldo2 = saldo - int(saque)\n",
    "print (f'Seu novo saldo é {saldo2}')"
   ]
  },
  {
   "cell_type": "code",
   "execution_count": 3,
   "metadata": {},
   "outputs": [
    {
     "name": "stdout",
     "output_type": "stream",
     "text": [
      "Tus elecciones de fruta es:\n",
      "manzana\n",
      "pera\n",
      "sandia\n",
      "banana\n"
     ]
    }
   ],
   "source": [
    "# Exercicio mro 2\n",
    "elecçoês = []\n",
    "\n",
    "for i in range(5):\n",
    "    fruta = input(\"Que fruta você gosta: \")\n",
    "\n",
    "    if fruta not in elecçoês:\n",
    "       elecçoês.append(fruta)\n",
    "\n",
    "print(\"Seus elecçoês de fruta são:\")\n",
    "for fruta in elecçoês:\n",
    "    print(fruta)"
   ]
  },
  {
   "cell_type": "code",
   "execution_count": 2,
   "metadata": {},
   "outputs": [
    {
     "name": "stdout",
     "output_type": "stream",
     "text": [
      "h*l* c*m* *st** t*\n"
     ]
    }
   ],
   "source": [
    "# Exercicio nro 3\n",
    "\n",
    "frase = input('Escrive uma frase: ')\n",
    "for vocales in ('a','e','i','o','u'):\n",
    "   frase = frase.replace(vocales, '*')\n",
    "print(frase)"
   ]
  }
 ],
 "metadata": {
  "kernelspec": {
   "display_name": "Python 3",
   "language": "python",
   "name": "python3"
  },
  "language_info": {
   "codemirror_mode": {
    "name": "ipython",
    "version": 3
   },
   "file_extension": ".py",
   "mimetype": "text/x-python",
   "name": "python",
   "nbconvert_exporter": "python",
   "pygments_lexer": "ipython3",
   "version": "3.10.5"
  }
 },
 "nbformat": 4,
 "nbformat_minor": 2
}
