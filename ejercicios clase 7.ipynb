{
 "cells": [
  {
   "cell_type": "markdown",
   "metadata": {},
   "source": []
  },
  {
   "cell_type": "code",
   "execution_count": 1,
   "metadata": {},
   "outputs": [],
   "source": [
    "import pandas as pd\n",
    "import numpy as np\n",
    " \n"
   ]
  },
  {
   "cell_type": "code",
   "execution_count": null,
   "metadata": {},
   "outputs": [],
   "source": []
  },
  {
   "cell_type": "code",
   "execution_count": 19,
   "metadata": {},
   "outputs": [
    {
     "name": "stdout",
     "output_type": "stream",
     "text": [
      "[13 44 81 92 18 41 42 76  1 49]\n"
     ]
    }
   ],
   "source": [
    "# 1\n",
    "\n",
    "array_aleatorio = np.random.randint(0, 101, 10)\n",
    "\n",
    "print(array_aleatorio)"
   ]
  },
  {
   "cell_type": "code",
   "execution_count": 28,
   "metadata": {},
   "outputs": [
    {
     "name": "stdout",
     "output_type": "stream",
     "text": [
      "Matriz Aleatoria:\n",
      "[[0.60960526 0.49536146 0.77622362 0.29256857 0.09218585]\n",
      " [0.32163931 0.99153683 0.39303997 0.90629962 0.27862219]\n",
      " [0.27183148 0.18561111 0.61925399 0.11547907 0.10456569]\n",
      " [0.00589529 0.49823842 0.93241017 0.98089917 0.32642945]\n",
      " [0.55705228 0.80442281 0.78192072 0.44589057 0.93990347]]\n",
      "Valor minimo: 0.0058952945704526805\n",
      "Valor Mínimo: 0.0058952945704526805\n",
      "Valor Máximo: 0.9915368316108447\n",
      "Media: 0.5090754539789639\n",
      "Media: 0.5090754539789639\n"
     ]
    }
   ],
   "source": [
    "#2\n",
    "# Crear una matriz 5x5 con valores aleatorios en el intervalo [0, 1]\n",
    "matriz_aleatoria = np.random.rand(5, 5)\n",
    "\n",
    "print(\"Matriz Aleatoria:\")\n",
    "print(matriz_aleatoria)\n",
    "\n",
    "# Encontrar el valor mínimo\n",
    "valor_minimo = np.min(matriz_aleatoria)\n",
    "\n",
    "# Encontrar el valor máximo\n",
    "valor_maximo = np.max(matriz_aleatoria)\n",
    "\n",
    "# Encontrar la media\n",
    "valor_media = np.mean(matriz_aleatoria)\n",
    "\n",
    "print(f\"Valor minimo:\", valor_minimo)\n",
    "print(f\"Valor Mínimo: {np.min(matriz_aleatoria)}\")\n",
    "print(f\"Valor Máximo:\", valor_maximo)\n",
    "print(f\"Media:\", valor_media)\n",
    "print(f'Media: {np.mean(matriz_aleatoria)}')\n"
   ]
  },
  {
   "cell_type": "code",
   "execution_count": 12,
   "metadata": {},
   "outputs": [
    {
     "name": "stdout",
     "output_type": "stream",
     "text": [
      "Matriz Original:\n",
      "[[0.74257639 0.50694894 0.02141218 0.29223841 0.87434206 0.8230487\n",
      "  0.92838579 0.7390758  0.45105989 0.86546158]]\n",
      "\n",
      "Matriz Modificada (multiplicada por 10 y convertida a enteros):\n",
      "[[7 5 0 2 8 8 9 7 4 8]]\n"
     ]
    }
   ],
   "source": [
    "# 3\n",
    "# Crear una matriz de 10 elementos aleatorios en el intervalo [0, 1]\n",
    "matriz_original = np.random.rand(1, 10)\n",
    "\n",
    "print(\"Matriz Original:\")\n",
    "print(matriz_original)\n",
    "\n",
    "# Crear otra matriz multiplicando por 10 y convirtiendo a enteros\n",
    "matriz_modificada = (matriz_original * 10).astype(int)\n",
    "\n",
    "print(\"\\nMatriz Modificada (multiplicada por 10 y convertida a enteros):\")\n",
    "print(matriz_modificada)\n"
   ]
  },
  {
   "cell_type": "code",
   "execution_count": 13,
   "metadata": {},
   "outputs": [
    {
     "name": "stdout",
     "output_type": "stream",
     "text": [
      "Matriz Original:\n",
      "[[1 8 5]\n",
      " [6 6 2]\n",
      " [7 6 8]]\n",
      "\n",
      "Matriz Modificada:\n",
      "[[ 1  8  5]\n",
      " [-1 -1 -1]\n",
      " [ 7  6  8]]\n"
     ]
    }
   ],
   "source": [
    "#4\n",
    "\n",
    "# Crear una matriz 3x3 con valores aleatorios en el intervalo [0, 9]\n",
    "matriz = np.random.randint(0, 10, (3, 3))\n",
    "\n",
    "print(\"Matriz Original:\")\n",
    "print(matriz)\n",
    "\n",
    "# Sustituir todos los elementos de la segunda línea por -1\n",
    "matriz[1, :] = -1\n",
    "\n",
    "print(\"\\nMatriz Modificada:\")\n",
    "print(matriz)\n"
   ]
  },
  {
   "cell_type": "code",
   "execution_count": 16,
   "metadata": {},
   "outputs": [
    {
     "name": "stdout",
     "output_type": "stream",
     "text": [
      "    fruta  preço  quantidade\n",
      "0  banana    7.9          12\n",
      "1    maça   10.2           3\n",
      "2    pera   11.8           4\n"
     ]
    }
   ],
   "source": [
    "#5\n",
    "\n",
    "# Definir los datos\n",
    "data = {\n",
    "    'fruta': ['banana', 'maça', 'pera'],\n",
    "    'preço': [7.90, 10.20, 11.80],\n",
    "    'quantidade': [12, 3, 4]\n",
    "}\n",
    "\n",
    "# Crear el DataFrame\n",
    "df = pd.DataFrame(data)\n",
    "\n",
    "# Mostrar el DataFrame\n",
    "print(df)\n"
   ]
  },
  {
   "cell_type": "code",
   "execution_count": null,
   "metadata": {},
   "outputs": [],
   "source": []
  }
 ],
 "metadata": {
  "kernelspec": {
   "display_name": "base",
   "language": "python",
   "name": "python3"
  },
  "language_info": {
   "codemirror_mode": {
    "name": "ipython",
    "version": 3
   },
   "file_extension": ".py",
   "mimetype": "text/x-python",
   "name": "python",
   "nbconvert_exporter": "python",
   "pygments_lexer": "ipython3",
   "version": "3.11.5"
  }
 },
 "nbformat": 4,
 "nbformat_minor": 2
}
