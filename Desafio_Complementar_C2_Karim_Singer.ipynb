{
 "cells": [
  {
   "cell_type": "markdown",
   "metadata": {},
   "source": [
    "\"\"\" \n",
    "Desafio complementar\n",
    "Atividades para praticar \n",
    "Aula Pyhon\n",
    "Clase nro 2\n",
    "aluno: Karim Singer\n",
    "\n",
    "\"\"\""
   ]
  },
  {
   "cell_type": "code",
   "execution_count": null,
   "metadata": {},
   "outputs": [],
   "source": [
    "#  Escreva um programa que calcule o IMC\n",
    "\n",
    "print ('                             \"calculadora de IMC\"                              ') \n",
    "print ('Olá! Vamos calcular seu IMC. Para fazer isso, insira as seguintes informações: ')\n",
    "\n",
    "def calcular_imc(peso, altura):\n",
    "    imc = peso / (altura ** 2)\n",
    "    return imc\n",
    "\n",
    "# Função para interpretar o IMC\n",
    "def interpretar_imc(imc):\n",
    "    if imc < 18.5:\n",
    "        return \"Abaixo do peso\"\n",
    "    elif 18.5 <= imc < 25:\n",
    "        return \"Peso saudável\"\n",
    "    elif 25 <= imc < 30:\n",
    "        return \"Sobrepeso\"\n",
    "    else:\n",
    "        return \"Obesidade\"\n",
    "\n",
    "# Solicitar ao usuário que insira o peso e a altura\n",
    "try:\n",
    "    peso = float(input(f'Digite o seu peso em quilogramas(exemplo: 73.5): '))\n",
    "    altura = float(input(f'Digite a sua altura em metros(exemplo: 1.75): '))\n",
    "    \n",
    "    # Calcular o IMC\n",
    "    imc = calcular_imc(peso, altura)\n",
    "    \n",
    "    # Interpretar o IMC\n",
    "    interpretacao = interpretar_imc(imc)\n",
    "    \n",
    "    # Mostrar o resultado\n",
    "    print(f'Seu IMC é: {imc:.2f}')\n",
    "    print(f'Interpretação: {interpretacao}')\n",
    "\n",
    "except ValueError:\n",
    "    print('Por favor, insira valores numéricos válidos para peso e altura.')"
   ]
  },
  {
   "cell_type": "code",
   "execution_count": null,
   "metadata": {},
   "outputs": [],
   "source": [
    "#  Escreva um programa que permita inserir 5 nomeros enteiros\n",
    "\n",
    "# Inicializamos uma lista vazia para armazenar os números inteiros.\n",
    "numeros_inteiros = []\n",
    "\n",
    "# Usamos um loop para pedir ao usuário que insira 5 números inteiros.\n",
    "while len(numeros_inteiros) < 5:\n",
    "    entrada = input(\"Digite um número inteiro: \")\n",
    "    \n",
    "    # Tentamos converter a entrada em um número inteiro.\n",
    "    try:\n",
    "        numero = int(entrada)\n",
    "        numeros_inteiros.append(numero)\n",
    "    except ValueError:\n",
    "        print(\"Isso não é um número inteiro válido. Tente novamente.\")\n",
    "\n",
    "# Mostramos os números inteiros inseridos.\n",
    "print(\"Os números inteiros inseridos por você são:\", numeros_inteiros)\n"
   ]
  },
  {
   "cell_type": "code",
   "execution_count": null,
   "metadata": {},
   "outputs": [],
   "source": [
    "#  Escreva um programa que permita inserir 5 nomes\n",
    "\n",
    "# Pedimos ao usuário que insira os nomes separados por vírgulas.\n",
    "entrada = input(\"Insira 5 nomes separados por vírgulas: \")\n",
    "\n",
    "# Dividimos a entrada em uma lista de nomes usando a vírgula como separador.\n",
    "nomes = entrada.split(',')\n",
    "\n",
    "# Removemos os espaços em branco no início e no final de cada nome.\n",
    "nomes = [nome.strip() for nome in nomes]\n",
    "\n",
    "# Mostramos a lista de nomes.\n",
    "print(\"Os nomes inseridos são:\", nomes)\n"
   ]
  },
  {
   "cell_type": "markdown",
   "metadata": {},
   "source": [
    "# "
   ]
  }
 ],
 "metadata": {
  "kernelspec": {
   "display_name": "Python 3",
   "language": "python",
   "name": "python3"
  },
  "language_info": {
   "codemirror_mode": {
    "name": "ipython",
    "version": 3
   },
   "file_extension": ".py",
   "mimetype": "text/x-python",
   "name": "python",
   "nbconvert_exporter": "python",
   "pygments_lexer": "ipython3",
   "version": "3.10.5"
  }
 },
 "nbformat": 4,
 "nbformat_minor": 2
}
